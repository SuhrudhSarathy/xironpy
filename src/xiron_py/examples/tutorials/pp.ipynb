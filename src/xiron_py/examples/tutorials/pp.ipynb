{
 "cells": [
  {
   "cell_type": "code",
   "execution_count": 1,
   "id": "67f662e4-92c9-4791-93c6-a21e70d95f04",
   "metadata": {},
   "outputs": [],
   "source": [
    "from xiron_py.comms import XironContext\n",
    "from xiron_py.data import Twist, Pose\n",
    "from xiron_py.controller.pure_pursuit import PurePursuitController"
   ]
  },
  {
   "cell_type": "code",
   "execution_count": 2,
   "id": "0d032c3d-b4bb-4846-9ffc-198083c01dce",
   "metadata": {},
   "outputs": [],
   "source": [
    "import numpy as np"
   ]
  },
  {
   "cell_type": "code",
   "execution_count": 29,
   "id": "c820c116-5d47-4eb8-8fce-582e92f3df17",
   "metadata": {},
   "outputs": [],
   "source": [
    "t = np.linspace(0, 10, 100)"
   ]
  },
  {
   "cell_type": "code",
   "execution_count": 42,
   "id": "facd00f3-91b6-4738-8ccb-70e8053676b6",
   "metadata": {},
   "outputs": [],
   "source": [
    "x = 5 * np.sin(t/2)\n",
    "y = np.sin(t)"
   ]
  },
  {
   "cell_type": "code",
   "execution_count": 43,
   "id": "b7b778f6-dc9e-4946-89d4-e141d645eba1",
   "metadata": {},
   "outputs": [
    {
     "data": {
      "text/plain": [
       "array([ 0.        ,  0.25241791,  0.5041921 ,  0.75468049,  1.00324428,\n",
       "        1.24924958,  1.49206902,  1.73108336,  1.96568306,  2.19526984,\n",
       "        2.4192582 ,  2.63707693,  2.84817053,  3.05200068,  3.24804757,\n",
       "        3.43581122,  3.61481281,  3.78459583,  3.94472731,  4.09479888,\n",
       "        4.23442782,  4.36325804,  4.48096101,  4.58723654,  4.68181363,\n",
       "        4.76445106,  4.83493811,  4.89309502,  4.93877346,  4.97185696,\n",
       "        4.99226113,  4.99993396,  4.99485586,  4.97703979,  4.94653118,\n",
       "        4.90340784,  4.84777975,  4.77978875,  4.69960826,  4.60744274,\n",
       "        4.50352723,  4.38812675,  4.26153559,  4.12407658,  3.97610029,\n",
       "        3.81798406,  3.65013115,  3.47296961,  3.28695123,  3.09255042,\n",
       "        2.89026293,  2.68060463,  2.46411021,  2.24133178,  2.01283745,\n",
       "        1.77920996,  1.54104509,  1.29895022,  1.05354274,  0.8054485 ,\n",
       "        0.55530019,  0.30373574,  0.05139671, -0.2010734 , -0.45303074,\n",
       "       -0.70383274, -0.95283981, -1.19941694, -1.44293529, -1.68277385,\n",
       "       -1.91832096, -2.14897594, -2.37415055, -2.59327057, -2.80577718,\n",
       "       -3.01112845, -3.20880069, -3.39828978, -3.5791125 , -3.75080769,\n",
       "       -3.91293751, -4.06508849, -4.2068726 , -4.33792828, -4.45792129,\n",
       "       -4.56654563, -4.66352428, -4.74860993, -4.82158558, -4.88226515,\n",
       "       -4.93049387, -4.96614876, -4.98913889, -4.99940563, -4.99692279,\n",
       "       -4.98169671, -4.95376622, -4.91320254, -4.86010912, -4.79462137])"
      ]
     },
     "execution_count": 43,
     "metadata": {},
     "output_type": "execute_result"
    }
   ],
   "source": [
    "x"
   ]
  },
  {
   "cell_type": "code",
   "execution_count": 44,
   "id": "0019dba5-1c37-4336-86c5-e41d66bc087e",
   "metadata": {},
   "outputs": [
    {
     "data": {
      "text/plain": [
       "<matplotlib.collections.PathCollection at 0x13212f200>"
      ]
     },
     "execution_count": 44,
     "metadata": {},
     "output_type": "execute_result"
    },
    {
     "data": {
      "image/png": "[encoded data removed]",
      "text/plain": [
       "<Figure size 640x480 with 1 Axes>"
      ]
     },
     "metadata": {},
     "output_type": "display_data"
    }
   ],
   "source": [
    "import matplotlib.pyplot as plt\n",
    "plt.scatter(t, x)"
   ]
  },
  {
   "cell_type": "code",
   "execution_count": 45,
   "id": "c1ab0ef9-dc7a-403a-822e-67486e5ee053",
   "metadata": {},
   "outputs": [
    {
     "name": "stdout",
     "output_type": "stream",
     "text": [
      "Initialised the main communicator\n"
     ]
    }
   ],
   "source": [
    "ctx = XironContext()"
   ]
  },
  {
   "cell_type": "code",
   "execution_count": 53,
   "id": "e8f06e9e-d206-4028-b856-cda26bab4579",
   "metadata": {},
   "outputs": [],
   "source": [
    "path = np.array([t, x]).T"
   ]
  },
  {
   "cell_type": "code",
   "execution_count": 54,
   "id": "c6e1db89-302c-4788-a956-cd5c7503bf7b",
   "metadata": {},
   "outputs": [
    {
     "name": "stdout",
     "output_type": "stream",
     "text": [
      "Signal handler is not added. Make sure to call `stop` function to stop the websockets properly\n",
      "Connected to S2C WebSocket\n",
      "Connected to C2S WebSocket\n"
     ]
    }
   ],
   "source": [
    "ctx.run_in_separate_thread()"
   ]
  },
  {
   "cell_type": "code",
   "execution_count": 56,
   "id": "f0a674b2-206c-408c-bee6-edfd94745e86",
   "metadata": {},
   "outputs": [],
   "source": [
    "import time\n",
    "\n",
    "controller = PurePursuitController()\n",
    "controller.set_target_plan(path)\n",
    "    "
   ]
  },
  {
   "cell_type": "code",
   "execution_count": 60,
   "id": "d6cdbb44-a6fe-4375-a2c6-9496a21f4752",
   "metadata": {},
   "outputs": [
    {
     "name": "stdout",
     "output_type": "stream",
     "text": [
      "[0. 0.]\n",
      "[0. 0.]\n",
      "[0. 0.]\n",
      "[0. 0.]\n",
      "[0. 0.]\n",
      "[0. 0.]\n",
      "[0. 0.]\n",
      "[0. 0.]\n",
      "[0. 0.]\n",
      "[0. 0.]\n",
      "[0. 0.]\n",
      "[0. 0.]\n",
      "[0. 0.]\n",
      "[0. 0.]\n",
      "[0. 0.]\n",
      "[0. 0.]\n",
      "[0. 0.]\n",
      "[0. 0.]\n",
      "[0. 0.]\n",
      "[0. 0.]\n",
      "[0. 0.]\n",
      "[0. 0.]\n",
      "[0. 0.]\n",
      "[0. 0.]\n",
      "[0. 0.]\n",
      "[0. 0.]\n",
      "[0. 0.]\n",
      "[0. 0.]\n",
      "[0. 0.]\n",
      "[0. 0.]\n",
      "[0. 0.]\n",
      "[0. 0.]\n",
      "[0. 0.]\n",
      "[0. 0.]\n",
      "[0. 0.]\n",
      "[0. 0.]\n",
      "[0. 0.]\n",
      "[0. 0.]\n",
      "[0. 0.]\n",
      "[0. 0.]\n",
      "[0. 0.]\n",
      "[0. 0.]\n",
      "[0. 0.]\n",
      "[0. 0.]\n",
      "[0. 0.]\n",
      "[0. 0.]\n",
      "[0. 0.]\n",
      "[0. 0.]\n",
      "[0. 0.]\n",
      "[0. 0.]\n",
      "[0. 0.]\n",
      "[0. 0.]\n",
      "[0. 0.]\n",
      "[0. 0.]\n",
      "[0. 0.]\n",
      "[0. 0.]\n",
      "[0. 0.]\n",
      "[0. 0.]\n",
      "[0. 0.]\n",
      "[0. 0.]\n",
      "[0. 0.]\n",
      "[0. 0.]\n",
      "[0. 0.]\n",
      "[0. 0.]\n",
      "[0. 0.]\n",
      "[0. 0.]\n",
      "[0. 0.]\n",
      "[0. 0.]\n",
      "[0. 0.]\n",
      "[0. 0.]\n",
      "[0. 0.]\n",
      "[0. 0.]\n",
      "[0. 0.]\n",
      "[0. 0.]\n",
      "[0. 0.]\n",
      "[0. 0.]\n",
      "[0. 0.]\n",
      "[0. 0.]\n",
      "[0. 0.]\n",
      "[0. 0.]\n",
      "[0. 0.]\n",
      "[0. 0.]\n",
      "[0. 0.]\n",
      "[0. 0.]\n",
      "[0. 0.]\n",
      "[0. 0.]\n",
      "[0. 0.]\n",
      "[0. 0.]\n",
      "[0. 0.]\n",
      "[0. 0.]\n",
      "[0. 0.]\n",
      "[0. 0.]\n",
      "[0. 0.]\n",
      "[0. 0.]\n",
      "[0. 0.]\n",
      "[0. 0.]\n",
      "[0. 0.]\n",
      "[0. 0.]\n",
      "[0. 0.]\n",
      "[0. 0.]\n"
     ]
    }
   ],
   "source": [
    "for i in range(100):\n",
    "    pose = ctx.get_pose(\"robot0\")\n",
    "    pose_npy = np.array([pose.position[0], pose.position[1], pose.orientation]).reshape(-1, 1)\n",
    "\n",
    "    control_inp = controller.get_control_input(pose_npy, None)\n",
    "    print(control_inp)\n",
    "    \n",
    "    time.sleep(0.1)"
   ]
  },
  {
   "cell_type": "code",
   "execution_count": null,
   "id": "68f583af-1b9a-472e-9a97-ad75db27af70",
   "metadata": {},
   "outputs": [],
   "source": []
  }
 ],
 "metadata": {
  "kernelspec": {
   "display_name": "Python 3 (ipykernel)",
   "language": "python",
   "name": "python3"
  },
  "language_info": {
   "codemirror_mode": {
    "name": "ipython",
    "version": 3
   },
   "file_extension": ".py",
   "mimetype": "text/x-python",
   "name": "python",
   "nbconvert_exporter": "python",
   "pygments_lexer": "ipython3",
   "version": "3.12.4"
  }
 },
 "nbformat": 4,
 "nbformat_minor": 5
}
