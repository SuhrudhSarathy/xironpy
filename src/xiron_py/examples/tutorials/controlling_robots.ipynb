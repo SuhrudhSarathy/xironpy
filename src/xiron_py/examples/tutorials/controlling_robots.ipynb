{
 "cells": [
  {
   "cell_type": "markdown",
   "id": "f197ecd9-b9ac-4b22-b64c-74afb6f4cc00",
   "metadata": {},
   "source": [
    "# Controlling Robot\n",
    "Introducing basic Proportional Controller"
   ]
  },
  {
   "cell_type": "code",
   "execution_count": 1,
   "id": "36998540-363c-4fed-ba64-1b09b1b3ce28",
   "metadata": {},
   "outputs": [],
   "source": [
    "from xiron_py.comms import XironContext\n",
    "from xiron_py.data import Pose, Twist\n",
    "import time\n",
    "import math"
   ]
  },
  {
   "cell_type": "code",
   "execution_count": 2,
   "id": "10d99259-146b-4c2d-9c7c-d8cf65c82471",
   "metadata": {},
   "outputs": [
    {
     "name": "stdout",
     "output_type": "stream",
     "text": [
      "Initialised the main communicator\n",
      "Signal handler is not added. Make sure to call `stop` function to stop the websockets properly\n",
      "Connected to S2C WebSocket\n",
      "Connected to C2S WebSocket\n",
      "Cleaning up...\n",
      "Shutting down tasks...\n",
      "Event loop closed cleanly\n"
     ]
    }
   ],
   "source": [
    "ctx = XironContext()\n",
    "ctx.run_in_separate_thread()"
   ]
  },
  {
   "cell_type": "code",
   "execution_count": 5,
   "id": "04841e94-123d-4f2f-864e-5d24031c963f",
   "metadata": {},
   "outputs": [],
   "source": [
    "def moving_forward_a_given_distance(distance: float, success_threshold: float = 0.05) -> None:\n",
    "    current_robot_pose = ctx.get_pose(\"robot0\")\n",
    "    x = current_robot_pose.position[0]\n",
    "    goal_x = x + distance\n",
    "    current_delta_to_goal = goal_x - x\n",
    "\n",
    "    # Control Parameters\n",
    "    gain = 1.5\n",
    "    max_vel = 0.5\n",
    "\n",
    "    print(f\"Distance to travel: {goal_x}. Current delta: {current_delta_to_goal}\")\n",
    "    print(\"Starting Control Loop...\")\n",
    "    while current_delta_to_goal > success_threshold:\n",
    "        current_robot_pose = ctx.get_pose(\"robot0\")\n",
    "        x = current_robot_pose.position[0]\n",
    "        current_delta_to_goal = goal_x - x\n",
    "\n",
    "        proportional_velocity = gain * current_delta_to_goal\n",
    "        proporitional_velocity_clamped = min(max_vel, proportional_velocity)\n",
    "\n",
    "        print(f\"Current delta: {current_delta_to_goal}. P Velocity: {proportional_velocity}. P Velocity Clamped: {proporitional_velocity_clamped}\")\n",
    "\n",
    "        # Construct Twist message\n",
    "        msg = Twist(timestamp=ctx.now(), robot_id=\"robot0\", linear=(proporitional_velocity_clamped, 0.0), angular=0.0)\n",
    "        ctx.publish_velocity(msg)\n",
    "\n",
    "        # Control the loop rate\n",
    "        time.sleep(0.2)\n",
    "\n",
    "    # Stop the Robot\n",
    "    msg = Twist(timestamp=ctx.now(), robot_id=\"robot0\", linear=(0.0, 0.0), angular=0.0)\n",
    "    ctx.publish_velocity(msg)\n",
    "    print(\"Completed control loop\")"
   ]
  },
  {
   "cell_type": "code",
   "execution_count": 6,
   "id": "272b8892-5226-43e7-9c81-97b7921391b0",
   "metadata": {},
   "outputs": [
    {
     "name": "stdout",
     "output_type": "stream",
     "text": [
      "Distance to travel: -3.0544919967651367. Current delta: 4.0\n",
      "Starting Control Loop...\n",
      "Current delta: 4.0. P Velocity: 6.0. P Velocity Clamped: 0.5\n",
      "Current delta: 3.950000762939453. P Velocity: 5.92500114440918. P Velocity Clamped: 0.5\n",
      "Current delta: 3.8500022888183594. P Velocity: 5.775003433227539. P Velocity Clamped: 0.5\n",
      "Current delta: 3.7500038146972656. P Velocity: 5.625005722045898. P Velocity Clamped: 0.5\n",
      "Current delta: 3.641672134399414. P Velocity: 5.462508201599121. P Velocity Clamped: 0.5\n",
      "Current delta: 3.5416736602783203. P Velocity: 5.3125104904174805. P Velocity Clamped: 0.5\n",
      "Current delta: 3.4416751861572266. P Velocity: 5.16251277923584. P Velocity Clamped: 0.5\n",
      "Current delta: 3.341676712036133. P Velocity: 5.012515068054199. P Velocity Clamped: 0.5\n",
      "Current delta: 3.241678237915039. P Velocity: 4.862517356872559. P Velocity Clamped: 0.5\n",
      "Current delta: 3.1416797637939453. P Velocity: 4.712519645690918. P Velocity Clamped: 0.5\n",
      "Current delta: 3.0416812896728516. P Velocity: 4.562521934509277. P Velocity Clamped: 0.5\n",
      "Current delta: 2.941682815551758. P Velocity: 4.412524223327637. P Velocity Clamped: 0.5\n",
      "Current delta: 2.841684341430664. P Velocity: 4.262526512145996. P Velocity Clamped: 0.5\n",
      "Current delta: 2.7416858673095703. P Velocity: 4.1125288009643555. P Velocity Clamped: 0.5\n",
      "Current delta: 2.6416873931884766. P Velocity: 3.962531089782715. P Velocity Clamped: 0.5\n",
      "Current delta: 2.541688919067383. P Velocity: 3.812533378601074. P Velocity Clamped: 0.5\n",
      "Current delta: 2.441690444946289. P Velocity: 3.6625356674194336. P Velocity Clamped: 0.5\n",
      "Current delta: 2.3416919708251953. P Velocity: 3.512537956237793. P Velocity Clamped: 0.5\n",
      "Current delta: 2.2416934967041016. P Velocity: 3.3625402450561523. P Velocity Clamped: 0.5\n",
      "Current delta: 2.141695022583008. P Velocity: 3.2125425338745117. P Velocity Clamped: 0.5\n",
      "Current delta: 2.041696548461914. P Velocity: 3.062544822692871. P Velocity Clamped: 0.5\n",
      "Current delta: 1.9416980743408203. P Velocity: 2.9125471115112305. P Velocity Clamped: 0.5\n",
      "Current delta: 1.8416996002197266. P Velocity: 2.76254940032959. P Velocity Clamped: 0.5\n",
      "Current delta: 1.7417011260986328. P Velocity: 2.612551689147949. P Velocity Clamped: 0.5\n",
      "Current delta: 1.641702651977539. P Velocity: 2.4625539779663086. P Velocity Clamped: 0.5\n",
      "Current delta: 1.5417041778564453. P Velocity: 2.312556266784668. P Velocity Clamped: 0.5\n",
      "Current delta: 1.4417057037353516. P Velocity: 2.1625585556030273. P Velocity Clamped: 0.5\n",
      "Current delta: 1.3417072296142578. P Velocity: 2.0125608444213867. P Velocity Clamped: 0.5\n",
      "Current delta: 1.241708755493164. P Velocity: 1.862563133239746. P Velocity Clamped: 0.5\n",
      "Current delta: 1.1417102813720703. P Velocity: 1.7125654220581055. P Velocity Clamped: 0.5\n",
      "Current delta: 1.0417118072509766. P Velocity: 1.5625677108764648. P Velocity Clamped: 0.5\n",
      "Current delta: 0.9417130947113037. P Velocity: 1.4125696420669556. P Velocity Clamped: 0.5\n",
      "Current delta: 0.8417117595672607. P Velocity: 1.2625676393508911. P Velocity Clamped: 0.5\n",
      "Current delta: 0.7417104244232178. P Velocity: 1.1125656366348267. P Velocity Clamped: 0.5\n",
      "Current delta: 0.6417090892791748. P Velocity: 0.9625636339187622. P Velocity Clamped: 0.5\n",
      "Current delta: 0.5417077541351318. P Velocity: 0.8125616312026978. P Velocity Clamped: 0.5\n",
      "Current delta: 0.44170641899108887. P Velocity: 0.6625596284866333. P Velocity Clamped: 0.5\n",
      "Current delta: 0.3417050838470459. P Velocity: 0.5125576257705688. P Velocity Clamped: 0.5\n",
      "Current delta: 0.24170374870300293. P Velocity: 0.3625556230545044. P Velocity Clamped: 0.3625556230545044\n",
      "Current delta: 0.16690301895141602. P Velocity: 0.250354528427124. P Velocity Clamped: 0.250354528427124\n",
      "Current delta: 0.11496233940124512. P Velocity: 0.17244350910186768. P Velocity Clamped: 0.17244350910186768\n",
      "Current delta: 0.07917428016662598. P Velocity: 0.11876142024993896. P Velocity Clamped: 0.11876142024993896\n",
      "Current delta: 0.05452728271484375. P Velocity: 0.08179092407226562. P Velocity Clamped: 0.08179092407226562\n",
      "Current delta: 0.045731544494628906. P Velocity: 0.06859731674194336. P Velocity Clamped: 0.06859731674194336\n",
      "Completed control loop\n"
     ]
    }
   ],
   "source": [
    "moving_forward_a_given_distance(distance=4.0)"
   ]
  },
  {
   "cell_type": "code",
   "execution_count": 7,
   "id": "b8d6e2e3-5320-437a-8228-7e7d4fc0be17",
   "metadata": {},
   "outputs": [],
   "source": [
    "# Reset simulation\n",
    "ctx.reset_simulation()"
   ]
  },
  {
   "cell_type": "markdown",
   "id": "b39d2974-6649-425e-bd1b-7129b8d85fe1",
   "metadata": {},
   "source": [
    "# What about rotation"
   ]
  },
  {
   "cell_type": "code",
   "execution_count": 49,
   "id": "204d892c-be43-4c26-b824-6d237910fa54",
   "metadata": {},
   "outputs": [],
   "source": []
  },
  {
   "cell_type": "code",
   "execution_count": 11,
   "id": "ea858dbe-5fb3-470a-9802-af6270cbe71a",
   "metadata": {},
   "outputs": [],
   "source": [
    "def rotating_a_give_angle(angle: float, success_threshold: float = 0.05) -> None:\n",
    "    current_robot_pose = ctx.get_pose(\"robot0\")\n",
    "    theta = current_robot_pose.orientation # always between -pi to pi\n",
    "    goal_theta = theta + angle\n",
    "    current_delta_to_goal = goal_theta - theta\n",
    "\n",
    "    # Control Parameters\n",
    "    gain = 1.5\n",
    "    max_vel = 0.5\n",
    "\n",
    "    print(f\"Distance to travel: {goal_theta}. Current delta: {current_delta_to_goal}\")\n",
    "    print(\"Starting Control Loop...\")\n",
    "    while current_delta_to_goal > success_threshold:\n",
    "        current_robot_pose = ctx.get_pose(\"robot0\")\n",
    "        theta = current_robot_pose.orientation\n",
    "        current_delta_to_goal = goal_theta - theta\n",
    "\n",
    "        proportional_velocity = gain * current_delta_to_goal\n",
    "        proporitional_velocity_clamped = min(max_vel, proportional_velocity)\n",
    "\n",
    "        print(f\"Current delta: {current_delta_to_goal}. P Velocity: {proportional_velocity}. P Velocity Clamped: {proporitional_velocity_clamped}\")\n",
    "\n",
    "        # Construct Twist message\n",
    "        msg = Twist(timestamp=ctx.now(), robot_id=\"robot0\", linear=(0.0, 0.0), angular=proporitional_velocity_clamped)\n",
    "        ctx.publish_velocity(msg)\n",
    "\n",
    "        # Control the loop rate\n",
    "        time.sleep(0.2)\n",
    "\n",
    "    # Stop the Robot\n",
    "    msg = Twist(timestamp=ctx.now(), robot_id=\"robot0\", linear=(0.0, 0.0), angular=0.0)\n",
    "    ctx.publish_velocity(msg)\n",
    "    print(\"Completed control loop\")"
   ]
  },
  {
   "cell_type": "code",
   "execution_count": 12,
   "id": "8e5b5f70-d005-4f2e-9764-867a3082a7e3",
   "metadata": {},
   "outputs": [
    {
     "name": "stdout",
     "output_type": "stream",
     "text": [
      "Distance to travel: 1.5707963267948966. Current delta: 1.5707963267948966\n",
      "Starting Control Loop...\n",
      "Current delta: 1.5707963267948966. P Velocity: 2.356194490192345. P Velocity Clamped: 0.5\n",
      "Current delta: 1.5041296566512923. P Velocity: 2.2561944849769384. P Velocity Clamped: 0.5\n",
      "Current delta: 1.4041296253588538. P Velocity: 2.1061944380382807. P Velocity Clamped: 0.5\n",
      "Current delta: 1.3041295866158347. P Velocity: 1.956194379923752. P Velocity Clamped: 0.5\n",
      "Current delta: 1.2041296819832663. P Velocity: 1.8061945229748995. P Velocity Clamped: 0.5\n",
      "Current delta: 1.104129777350698. P Velocity: 1.656194666026047. P Velocity Clamped: 0.5\n",
      "Current delta: 1.0041298429158072. P Velocity: 1.5061947643737108. P Velocity Clamped: 0.5\n",
      "Current delta: 0.9041299382832388. P Velocity: 1.3561949074248583. P Velocity Clamped: 0.5\n",
      "Current delta: 0.8041300336506705. P Velocity: 1.2061950504760057. P Velocity Clamped: 0.5\n",
      "Current delta: 0.7041301290181021. P Velocity: 1.0561951935271532. P Velocity Clamped: 0.5\n",
      "Current delta: 0.6041302243855338. P Velocity: 0.9061953365783006. P Velocity Clamped: 0.5\n",
      "Current delta: 0.5041303197529654. P Velocity: 0.7561954796294481. P Velocity Clamped: 0.5\n",
      "Current delta: 0.40413041512039705. P Velocity: 0.6061956226805956. P Velocity Clamped: 0.5\n",
      "Current delta: 0.3041305104878287. P Velocity: 0.45619576573174303. P Velocity Clamped: 0.45619576573174303\n",
      "Current delta: 0.21143098274735017. P Velocity: 0.31714647412102526. P Velocity Clamped: 0.31714647412102526\n",
      "Current delta: 0.143367008366857. P Velocity: 0.2150505125502855. P Velocity Clamped: 0.2150505125502855\n",
      "Current delta: 0.09695406357315584. P Velocity: 0.14543109535973375. P Velocity Clamped: 0.14543109535973375\n",
      "Current delta: 0.0655469457295279. P Velocity: 0.09832041859429186. P Velocity Clamped: 0.09832041859429186\n",
      "Current delta: 0.044312671819005445. P Velocity: 0.06646900772850817. P Velocity Clamped: 0.06646900772850817\n",
      "Completed control loop\n"
     ]
    }
   ],
   "source": [
    "rotating_a_give_angle(math.pi/2)"
   ]
  },
  {
   "cell_type": "code",
   "execution_count": 13,
   "id": "f8c9b17e-5b7e-467c-9ced-e14132490eda",
   "metadata": {},
   "outputs": [],
   "source": [
    "# Reset simulation. This should bring you back to original state\n",
    "ctx.reset_simulation()"
   ]
  },
  {
   "cell_type": "code",
   "execution_count": 14,
   "id": "0a139e5e-8720-49b1-ba8c-959e5643868e",
   "metadata": {},
   "outputs": [],
   "source": [
    "# Try running the control with various. It should fail for some of the tasks"
   ]
  },
  {
   "cell_type": "code",
   "execution_count": 15,
   "id": "fa2fccc7-f2ba-4c28-8d8f-22cd74cc3477",
   "metadata": {},
   "outputs": [],
   "source": [
    "# Lets use a better Controller for this"
   ]
  },
  {
   "cell_type": "code",
   "execution_count": 16,
   "id": "724f654d-a9ee-42f8-aa6f-3ba4019562d6",
   "metadata": {},
   "outputs": [],
   "source": [
    "from xiron_py.controller.pid import PIDController, PIDConfig\n",
    "import numpy as np"
   ]
  },
  {
   "cell_type": "code",
   "execution_count": 17,
   "id": "fe1953ea-d5bb-4f14-ba1b-d535737f0a5d",
   "metadata": {},
   "outputs": [
    {
     "name": "stdout",
     "output_type": "stream",
     "text": [
      "Initialised PID Controller\n"
     ]
    }
   ],
   "source": [
    "pid_controller = PIDController()\n",
    "pid_controller.distance_threshold = 0.05"
   ]
  },
  {
   "cell_type": "code",
   "execution_count": 18,
   "id": "07cdeead-aef7-402e-82bf-0de47a22ed66",
   "metadata": {},
   "outputs": [],
   "source": [
    "plan = [[0.0, -3.0, 0.0], [0.0, 0.0, 0.0]]\n",
    "pid_controller.set_plan(plan)"
   ]
  },
  {
   "cell_type": "code",
   "execution_count": 19,
   "id": "078dc389-2555-41c7-846d-d047b8f09b5b",
   "metadata": {},
   "outputs": [
    {
     "name": "stdout",
     "output_type": "stream",
     "text": [
      "Distance to final point: 7.637299352975271. Distance threshold: 0.05\n",
      "Distance to final point: 7.637299352975271. Distance threshold: 0.05\n",
      "Distance to final point: 7.637299352975271. Distance threshold: 0.05\n",
      "Distance to final point: 7.552710780250658. Distance threshold: 0.05\n",
      "Distance to final point: 7.460623012057221. Distance threshold: 0.05\n",
      "Distance to final point: 7.368741460766153. Distance threshold: 0.05\n",
      "Distance to final point: 7.277073937568832. Distance threshold: 0.05\n",
      "Distance to final point: 7.185628633580091. Distance threshold: 0.05\n",
      "Distance to final point: 7.094414141862718. Distance threshold: 0.05\n",
      "Distance to final point: 7.003439480887262. Distance threshold: 0.05\n",
      "Distance to final point: 6.912714119525865. Distance threshold: 0.05\n",
      "Distance to final point: 6.86744801489848. Distance threshold: 0.05\n",
      "Distance to final point: 6.7771154083175045. Distance threshold: 0.05\n",
      "Distance to final point: 6.687057923154927. Distance threshold: 0.05\n",
      "Distance to final point: 6.597286826207933. Distance threshold: 0.05\n",
      "Distance to final point: 6.507813969109557. Distance threshold: 0.05\n",
      "Distance to final point: 6.418651823823389. Distance threshold: 0.05\n",
      "Distance to final point: 6.32981352048054. Distance threshold: 0.05\n",
      "Distance to final point: 6.241312887710267. Distance threshold: 0.05\n",
      "Distance to final point: 6.15316449562267. Distance threshold: 0.05\n",
      "Distance to final point: 6.065383701608464. Distance threshold: 0.05\n",
      "Distance to final point: 5.977986699126798. Distance threshold: 0.05\n",
      "Distance to final point: 5.890990569657136. Distance threshold: 0.05\n",
      "Distance to final point: 5.804413337995046. Distance threshold: 0.05\n",
      "Distance to final point: 5.718274031073833. Distance threshold: 0.05\n",
      "Distance to final point: 5.632592740493943. Distance threshold: 0.05\n",
      "Distance to final point: 5.547390688939247. Distance threshold: 0.05\n",
      "Distance to final point: 5.462690300652941. Distance threshold: 0.05\n",
      "Distance to final point: 5.378515276135105. Distance threshold: 0.05\n",
      "Distance to final point: 5.29489067120774. Distance threshold: 0.05\n",
      "Distance to final point: 5.2118429805702995. Distance threshold: 0.05\n",
      "Distance to final point: 5.129400225937741. Distance threshold: 0.05\n",
      "Distance to final point: 5.047592048812334. Distance threshold: 0.05\n",
      "Distance to final point: 4.9664498078879165. Distance threshold: 0.05\n",
      "Distance to final point: 4.886004580751973. Distance threshold: 0.05\n",
      "Distance to final point: 4.806293421396927. Distance threshold: 0.05\n",
      "Distance to final point: 4.727353665218911. Distance threshold: 0.05\n",
      "Distance to final point: 4.649224605632121. Distance threshold: 0.05\n",
      "Distance to final point: 4.57194780429882. Distance threshold: 0.05\n",
      "Distance to final point: 4.495567211255065. Distance threshold: 0.05\n",
      "Distance to final point: 4.420129286644415. Distance threshold: 0.05\n",
      "Distance to final point: 4.345683122876411. Distance threshold: 0.05\n",
      "Distance to final point: 4.272280565730118. Distance threshold: 0.05\n",
      "Distance to final point: 4.199976332580795. Distance threshold: 0.05\n",
      "Distance to final point: 4.128828125536782. Distance threshold: 0.05\n",
      "Distance to final point: 4.0588967368325. Distance threshold: 0.05\n",
      "Distance to final point: 3.9902461433320915. Distance threshold: 0.05\n",
      "Distance to final point: 3.922943586459654. Distance threshold: 0.05\n",
      "Distance to final point: 3.857059633292492. Distance threshold: 0.05\n",
      "Distance to final point: 3.792668213944515. Distance threshold: 0.05\n",
      "Distance to final point: 3.7298466297445696. Distance threshold: 0.05\n",
      "Distance to final point: 3.668675526103385. Distance threshold: 0.05\n",
      "Distance to final point: 3.609238823395338. Distance threshold: 0.05\n",
      "Distance to final point: 3.551623598699552. Distance threshold: 0.05\n",
      "Distance to final point: 3.495920628399726. Distance threshold: 0.05\n",
      "Distance to final point: 3.4422220054863772. Distance threshold: 0.05\n",
      "Distance to final point: 3.3906228914303673. Distance threshold: 0.05\n",
      "Distance to final point: 3.341220557009315. Distance threshold: 0.05\n",
      "Distance to final point: 3.2941138400372103. Distance threshold: 0.05\n",
      "Distance to final point: 3.2494025810171316. Distance threshold: 0.05\n",
      "Distance to final point: 3.207186966450498. Distance threshold: 0.05\n",
      "Distance to final point: 3.16756677970207. Distance threshold: 0.05\n",
      "Distance to final point: 3.1306405625410565. Distance threshold: 0.05\n",
      "Distance to final point: 3.096504694269923. Distance threshold: 0.05\n",
      "Distance to final point: 3.0652523996070857. Distance threshold: 0.05\n",
      "Distance to final point: 3.038857588174934. Distance threshold: 0.05\n",
      "Distance to final point: 3.0173129946550836. Distance threshold: 0.05\n",
      "Distance to final point: 2.999821096032308. Distance threshold: 0.05\n",
      "Distance to final point: 2.985914541318362. Distance threshold: 0.05\n",
      "Distance to final point: 2.9753453332781192. Distance threshold: 0.05\n",
      "Distance to final point: 2.967499549847458. Distance threshold: 0.05\n",
      "Distance to final point: 2.961855922138779. Distance threshold: 0.05\n",
      "Distance to final point: 2.9579828593854307. Distance threshold: 0.05\n",
      "Distance to final point: 2.9555471483288938. Distance threshold: 0.05\n",
      "Distance to final point: 2.9542187836490172. Distance threshold: 0.05\n",
      "Distance to final point: 2.953763925727522. Distance threshold: 0.05\n",
      "Distance to final point: 2.9539901429615654. Distance threshold: 0.05\n",
      "Distance to final point: 2.9543019314862713. Distance threshold: 0.05\n",
      "Distance to final point: 2.955286381774697. Distance threshold: 0.05\n",
      "Distance to final point: 2.956654835583578. Distance threshold: 0.05\n",
      "Distance to final point: 2.958283881250284. Distance threshold: 0.05\n",
      "Distance to final point: 2.9600890097678922. Distance threshold: 0.05\n",
      "Distance to final point: 2.9620060030237663. Distance threshold: 0.05\n",
      "Distance to final point: 2.9639841576991937. Distance threshold: 0.05\n",
      "Distance to final point: 2.96598340742449. Distance threshold: 0.05\n",
      "Distance to final point: 2.9679729084778765. Distance threshold: 0.05\n",
      "Distance to final point: 2.969929245838858. Distance threshold: 0.05\n",
      "Distance to final point: 2.9718172583551516. Distance threshold: 0.05\n",
      "Distance to final point: 2.973642963382816. Distance threshold: 0.05\n",
      "Distance to final point: 2.9753983762539353. Distance threshold: 0.05\n",
      "Distance to final point: 2.97707699499244. Distance threshold: 0.05\n",
      "Distance to final point: 2.978675167142546. Distance threshold: 0.05\n",
      "Reached Waypoint. Going to the next waypoint\n",
      "Distance to final point: 2.9801907988032603. Distance threshold: 0.05\n",
      "Distance to final point: 2.98081698792574. Distance threshold: 0.05\n",
      "Distance to final point: 2.98081698792574. Distance threshold: 0.05\n",
      "Distance to final point: 2.98081698792574. Distance threshold: 0.05\n",
      "Distance to final point: 2.98081698792574. Distance threshold: 0.05\n",
      "Distance to final point: 2.98081698792574. Distance threshold: 0.05\n",
      "Distance to final point: 2.98081698792574. Distance threshold: 0.05\n",
      "Distance to final point: 2.98081698792574. Distance threshold: 0.05\n",
      "Distance to final point: 2.98081698792574. Distance threshold: 0.05\n",
      "Distance to final point: 2.98081698792574. Distance threshold: 0.05\n",
      "Distance to final point: 2.98081698792574. Distance threshold: 0.05\n",
      "Distance to final point: 2.98081698792574. Distance threshold: 0.05\n",
      "Distance to final point: 2.98081698792574. Distance threshold: 0.05\n",
      "Distance to final point: 2.98081698792574. Distance threshold: 0.05\n",
      "Distance to final point: 2.98081698792574. Distance threshold: 0.05\n",
      "Distance to final point: 2.9205434623219046. Distance threshold: 0.05\n",
      "Distance to final point: 2.8290351491728725. Distance threshold: 0.05\n",
      "Distance to final point: 2.7364000157125328. Distance threshold: 0.05\n",
      "Distance to final point: 2.642811319567651. Distance threshold: 0.05\n",
      "Distance to final point: 2.5484103123616375. Distance threshold: 0.05\n",
      "Distance to final point: 2.4533148177996975. Distance threshold: 0.05\n",
      "Distance to final point: 2.3576240511002746. Distance threshold: 0.05\n",
      "Distance to final point: 2.261424423380955. Distance threshold: 0.05\n",
      "Distance to final point: 2.1647888241895514. Distance threshold: 0.05\n",
      "Distance to final point: 2.0677798284254965. Distance threshold: 0.05\n",
      "Distance to final point: 1.970451137873535. Distance threshold: 0.05\n",
      "Distance to final point: 1.8728496161575456. Distance threshold: 0.05\n",
      "Distance to final point: 1.7750151516723691. Distance threshold: 0.05\n",
      "Distance to final point: 1.676984233119538. Distance threshold: 0.05\n",
      "Distance to final point: 1.578787657922058. Distance threshold: 0.05\n",
      "Distance to final point: 1.4804525789280734. Distance threshold: 0.05\n",
      "Distance to final point: 1.3820034019420857. Distance threshold: 0.05\n",
      "Distance to final point: 1.2834631048386007. Distance threshold: 0.05\n",
      "Distance to final point: 1.1848535963115379. Distance threshold: 0.05\n",
      "Distance to final point: 1.0861962089713177. Distance threshold: 0.05\n",
      "Distance to final point: 0.9875137781302987. Distance threshold: 0.05\n",
      "Distance to final point: 0.8899604504214395. Distance threshold: 0.05\n",
      "Distance to final point: 0.8013475642876167. Distance threshold: 0.05\n",
      "Distance to final point: 0.7215637006903463. Distance threshold: 0.05\n",
      "Distance to final point: 0.6497344244293104. Distance threshold: 0.05\n",
      "Distance to final point: 0.6171038838729739. Distance threshold: 0.05\n",
      "Distance to final point: 0.554639952823343. Distance threshold: 0.05\n",
      "Distance to final point: 0.49688182938527836. Distance threshold: 0.05\n",
      "Distance to final point: 0.44506753519022696. Distance threshold: 0.05\n",
      "Distance to final point: 0.39866903579400437. Distance threshold: 0.05\n",
      "Distance to final point: 0.35712339881043886. Distance threshold: 0.05\n",
      "Distance to final point: 0.3199220605435169. Distance threshold: 0.05\n",
      "Distance to final point: 0.28660943347242274. Distance threshold: 0.05\n",
      "Distance to final point: 0.2567779425672673. Distance threshold: 0.05\n",
      "Distance to final point: 0.23006273989059542. Distance threshold: 0.05\n",
      "Distance to final point: 0.2061373620935586. Distance threshold: 0.05\n",
      "Distance to final point: 0.18470963488757497. Distance threshold: 0.05\n",
      "Distance to final point: 0.16551797976583846. Distance threshold: 0.05\n",
      "Distance to final point: 0.14848491967122093. Distance threshold: 0.05\n",
      "Distance to final point: 0.13321822347454645. Distance threshold: 0.05\n",
      "Distance to final point: 0.11952730311437547. Distance threshold: 0.05\n",
      "Distance to final point: 0.10724869268772702. Distance threshold: 0.05\n",
      "Distance to final point: 0.0962362386681484. Distance threshold: 0.05\n",
      "Distance to final point: 0.08635897820699719. Distance threshold: 0.05\n",
      "Distance to final point: 0.07749950100218302. Distance threshold: 0.05\n",
      "Distance to final point: 0.0696246218231866. Distance threshold: 0.05\n",
      "Distance to final point: 0.062491452260990434. Distance threshold: 0.05\n",
      "Distance to final point: 0.056089335854024445. Distance threshold: 0.05\n",
      "Distance to final point: 0.050397756605686156. Distance threshold: 0.05\n",
      "Done with control\n",
      "Reached goal position. Setting zero velocity\n"
     ]
    }
   ],
   "source": [
    "# Lets try the control loop again\n",
    "final_goal_vec = np.array(plan[-1]).reshape(-1, 1) # Shape becomes (3, 1)\n",
    "current_pose = ctx.get_pose(\"robot0\")\n",
    "current_pose_vec = np.array([current_pose.position[0], current_pose.position[1], current_pose.orientation]).reshape(-1, 1) # (3, 1)\n",
    "\n",
    "distance = pid_controller.distance(final_goal_vec, current_pose_vec)\n",
    "last_control = np.zeros((2, 1))\n",
    "\n",
    "print(f\"Distance to final point: {distance}. Distance threshold: {pid_controller.distance_threshold}\")\n",
    "while distance > pid_controller.distance_threshold:\n",
    "    current_pose = ctx.get_pose(\"robot0\")\n",
    "    current_pose_vec = np.array([current_pose.position[0], current_pose.position[1], current_pose.orientation]).reshape(-1, 1) # (3, 1)\n",
    "    print(f\"Distance to final point: {distance}. Distance threshold: {pid_controller.distance_threshold}\")\n",
    "    distance = pid_controller.distance(final_goal_vec, current_pose_vec)\n",
    "    \n",
    "    vel = pid_controller.compute_contol(current_pose_vec, last_control)\n",
    "\n",
    "    msg = Twist(timestamp=ctx.now(), robot_id=\"robot0\", linear=(vel[0][0], 0.0), angular=vel[1][0])\n",
    "    ctx.publish_velocity(msg)\n",
    "\n",
    "    # Set variable\n",
    "    last_control = vel\n",
    "\n",
    "    time.sleep(0.2)\n",
    "\n",
    "print(\"Reached goal position. Setting zero velocity\")\n",
    "msg = Twist(timestamp=ctx.now(), robot_id=\"robot0\", linear=(0.0, 0.0), angular=0.0)\n",
    "ctx.publish_velocity(msg)"
   ]
  },
  {
   "cell_type": "code",
   "execution_count": 20,
   "id": "290e3206-0bdc-4d0d-b148-ce9e9423e779",
   "metadata": {},
   "outputs": [],
   "source": [
    "ctx.reset_simulation()"
   ]
  },
  {
   "cell_type": "code",
   "execution_count": null,
   "id": "d8924da2-8155-4e6e-b92d-cdd879f9355b",
   "metadata": {},
   "outputs": [],
   "source": [
    "# Feel free to modify the controller and play around"
   ]
  },
  {
   "cell_type": "code",
   "execution_count": 22,
   "id": "c1eea8fc-7450-4dd2-b9be-49b5abacb2c4",
   "metadata": {},
   "outputs": [],
   "source": [
    "ctx.stop()"
   ]
  },
  {
   "cell_type": "code",
   "execution_count": null,
   "id": "29c6d828-a86a-43a6-a251-cc97291459b5",
   "metadata": {},
   "outputs": [],
   "source": []
  }
 ],
 "metadata": {
  "kernelspec": {
   "display_name": "Python 3 (ipykernel)",
   "language": "python",
   "name": "python3"
  },
  "language_info": {
   "codemirror_mode": {
    "name": "ipython",
    "version": 3
   },
   "file_extension": ".py",
   "mimetype": "text/x-python",
   "name": "python",
   "nbconvert_exporter": "python",
   "pygments_lexer": "ipython3",
   "version": "3.12.4"
  }
 },
 "nbformat": 4,
 "nbformat_minor": 5
}
